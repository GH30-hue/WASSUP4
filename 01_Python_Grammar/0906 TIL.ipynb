{
 "cells": [
  {
   "cell_type": "markdown",
   "id": "db0df911-1c37-471a-bb08-544431dc7163",
   "metadata": {},
   "source": [
    "## 101"
   ]
  },
  {
   "cell_type": "code",
   "execution_count": 2,
   "id": "bac4b455-a6b5-4da3-a98d-f7b3fb5f881f",
   "metadata": {},
   "outputs": [
    {
     "name": "stdout",
     "output_type": "stream",
     "text": [
      "Object `무엇인가` not found.\n"
     ]
    },
    {
     "data": {
      "text/plain": [
       "'bool'"
      ]
     },
     "execution_count": 2,
     "metadata": {},
     "output_type": "execute_result"
    }
   ],
   "source": [
    "파이썬에서 True 혹은 False를 갖는 데이터 타입은 무엇인가?\n",
    "'bool'"
   ]
  }
 ],
 "metadata": {
  "kernelspec": {
   "display_name": "Python 3 (ipykernel)",
   "language": "python",
   "name": "python3"
  },
  "language_info": {
   "codemirror_mode": {
    "name": "ipython",
    "version": 3
   },
   "file_extension": ".py",
   "mimetype": "text/x-python",
   "name": "python",
   "nbconvert_exporter": "python",
   "pygments_lexer": "ipython3",
   "version": "3.12.4"
  }
 },
 "nbformat": 4,
 "nbformat_minor": 5
}
