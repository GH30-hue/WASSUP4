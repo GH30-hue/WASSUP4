{
 "cells": [
  {
   "cell_type": "markdown",
   "id": "28869d54-1c9c-406c-a503-28c2cfa9d967",
   "metadata": {},
   "source": [
    "## 201\n",
    "\"비트코인\" 문자열을 화면에 출력하는 print_coin() 함수를 정의하라."
   ]
  },
  {
   "cell_type": "code",
   "execution_count": 4,
   "id": "fb7c5dd6-dc1e-42cb-ae56-fc940b4629c1",
   "metadata": {},
   "outputs": [],
   "source": [
    "def print_coin() :\n",
    "    print(\"비트코인\")"
   ]
  },
  {
   "cell_type": "markdown",
   "id": "77fc7b9c-9fc8-4617-b4f2-b7dfe6721a56",
   "metadata": {},
   "source": [
    "## 202\n",
    "201번에서 정의한 함수를 호출하라."
   ]
  },
  {
   "cell_type": "code",
   "execution_count": 11,
   "id": "a103154e-5979-4f8a-9ffb-dfca0b067af1",
   "metadata": {},
   "outputs": [
    {
     "name": "stdout",
     "output_type": "stream",
     "text": [
      "비트코인\n"
     ]
    }
   ],
   "source": [
    "print_coin()"
   ]
  },
  {
   "cell_type": "markdown",
   "id": "bd0c2b2c-b754-4689-84e1-cba38449e341",
   "metadata": {},
   "source": [
    "## 203\n",
    "201번에서 정의한 print_coin 함수를 100번호출하라."
   ]
  },
  {
   "cell_type": "markdown",
   "id": "c661173e-5b26-4bd0-acc5-2a87016f62f8",
   "metadata": {},
   "source": [
    "for i in range(100) :\n",
    "    print_coin()"
   ]
  },
  {
   "cell_type": "markdown",
   "id": "6869c2b5-58bb-4139-9002-a26aee7f11dd",
   "metadata": {},
   "source": [
    "## 204\n",
    "\"비트코인\" 문자열을 100번 화면에 출력하는 print_coins() 함수를 정의하라."
   ]
  },
  {
   "cell_type": "markdown",
   "id": "47d49443-1a20-4cd0-b383-ce741f12f4ec",
   "metadata": {},
   "source": [
    "def print_coins() :\n",
    "    for i in range(100) :\n",
    "        print(\"비트코인\")"
   ]
  },
  {
   "cell_type": "markdown",
   "id": "84f80aa2-2beb-4031-abd1-eda1cd12d680",
   "metadata": {},
   "source": [
    "## 205\n",
    "아래의 에러가 발생하는 이유에 대해 설명하라."
   ]
  },
  {
   "cell_type": "code",
   "execution_count": 16,
   "id": "8d6662d7-338a-45b8-839a-6b942158d839",
   "metadata": {},
   "outputs": [
    {
     "ename": "NameError",
     "evalue": "name 'hello' is not defined",
     "output_type": "error",
     "traceback": [
      "\u001b[1;31m---------------------------------------------------------------------------\u001b[0m",
      "\u001b[1;31mNameError\u001b[0m                                 Traceback (most recent call last)",
      "Cell \u001b[1;32mIn[16], line 1\u001b[0m\n\u001b[1;32m----> 1\u001b[0m hello()         \u001b[38;5;66;03m#에러\u001b[39;00m\n\u001b[0;32m      2\u001b[0m \u001b[38;5;28;01mdef\u001b[39;00m \u001b[38;5;21mhello\u001b[39m():\n\u001b[0;32m      3\u001b[0m     \u001b[38;5;28mprint\u001b[39m(\u001b[38;5;124m\"\u001b[39m\u001b[38;5;124mHi\u001b[39m\u001b[38;5;124m\"\u001b[39m)\n",
      "\u001b[1;31mNameError\u001b[0m: name 'hello' is not defined"
     ]
    }
   ],
   "source": [
    "hello()         #에러\n",
    "def hello():\n",
    "    print(\"Hi\") "
   ]
  },
  {
   "cell_type": "markdown",
   "id": "af4fb76c-c2ff-4f09-8f2e-52cddd64be3b",
   "metadata": {},
   "source": [
    "함수가 정의된 후에 호출하여야 합니다."
   ]
  },
  {
   "cell_type": "markdown",
   "id": "ad73d1ba-89f5-40a2-9cdb-92c42c2b13bf",
   "metadata": {},
   "source": [
    "## 206\n",
    "아래 코드의 실행 결과를 예측하라."
   ]
  },
  {
   "cell_type": "code",
   "execution_count": 21,
   "id": "867fe5d3-ea93-4d09-83ec-35195c0f87a2",
   "metadata": {},
   "outputs": [
    {
     "name": "stdout",
     "output_type": "stream",
     "text": [
      "A\n",
      "B\n",
      "C\n",
      "A\n",
      "B\n"
     ]
    }
   ],
   "source": [
    "def message() :\n",
    "    print(\"A\")\n",
    "    print(\"B\")\n",
    "\n",
    "message()\n",
    "print(\"C\")\n",
    "message()"
   ]
  },
  {
   "cell_type": "markdown",
   "id": "96a23145-e2ee-4504-b72e-7b59f3cab3bc",
   "metadata": {},
   "source": [
    "## 207\n",
    "아래 코드의 실행 결과를 예측하라. (읽기 어려운 코드의 예입니다.)"
   ]
  },
  {
   "cell_type": "code",
   "execution_count": 22,
   "id": "b0e63403-829a-4b98-a406-8d24b7e0ce3e",
   "metadata": {},
   "outputs": [
    {
     "name": "stdout",
     "output_type": "stream",
     "text": [
      "A\n",
      "C\n",
      "B\n"
     ]
    }
   ],
   "source": [
    "print(\"A\")\n",
    "\n",
    "def message() :\n",
    "    print(\"B\")\n",
    "\n",
    "print(\"C\")\n",
    "message()"
   ]
  },
  {
   "cell_type": "markdown",
   "id": "9a3f2199-4f91-45b8-a1e3-2fe950d3f88b",
   "metadata": {},
   "source": [
    "## 208\r\n",
    "아래 코드의 실행 결과를 예측하라. (읽기 어려운 코드의 예입니다.)"
   ]
  },
  {
   "cell_type": "code",
   "execution_count": 23,
   "id": "3e7a090d-0243-408f-bbd2-20847afd77fa",
   "metadata": {},
   "outputs": [
    {
     "name": "stdout",
     "output_type": "stream",
     "text": [
      "A\n",
      "C\n",
      "B\n",
      "E\n",
      "D\n"
     ]
    }
   ],
   "source": [
    "print(\"A\")\n",
    "def message1() :\n",
    "    print(\"B\")\n",
    "print(\"C\")\n",
    "def message2() :\n",
    "    print(\"D\")\n",
    "message1()\n",
    "print(\"E\")\n",
    "message2()"
   ]
  },
  {
   "cell_type": "markdown",
   "id": "c606c253-f284-45b7-8e05-b9cb075067b6",
   "metadata": {},
   "source": [
    "## 209\n",
    "아래 코드의 실행 결과를 예측하라."
   ]
  },
  {
   "cell_type": "code",
   "execution_count": 24,
   "id": "5267b958-cea0-43d8-a258-55f609c61440",
   "metadata": {},
   "outputs": [
    {
     "name": "stdout",
     "output_type": "stream",
     "text": [
      "B\n",
      "A\n"
     ]
    }
   ],
   "source": [
    "def message1():\n",
    "    print(\"A\")\n",
    "\n",
    "def message2():\n",
    "    print(\"B\")\n",
    "    message1()\n",
    "\n",
    "message2()"
   ]
  },
  {
   "cell_type": "markdown",
   "id": "6d8a1663-5233-4b4c-992a-24c15dcafc20",
   "metadata": {},
   "source": [
    "## 210\n",
    "아래 코드의 실행 결과를 예측하라."
   ]
  },
  {
   "cell_type": "code",
   "execution_count": 26,
   "id": "5169ca98-e090-47f4-a591-7e2e898491b8",
   "metadata": {},
   "outputs": [
    {
     "name": "stdout",
     "output_type": "stream",
     "text": [
      "B\n",
      "C\n",
      "B\n",
      "C\n",
      "B\n",
      "C\n",
      "A\n"
     ]
    }
   ],
   "source": [
    "def message1():\n",
    "    print(\"A\")\n",
    "\n",
    "def message2():\n",
    "    print(\"B\")\n",
    "\n",
    "def message3():\n",
    "    for i in range (3) :\n",
    "        message2()\n",
    "        print(\"C\")\n",
    "    message1()\n",
    "\n",
    "message3()"
   ]
  },
  {
   "cell_type": "markdown",
   "id": "2d97df24-37ca-4af4-a4b1-a326e440e0a0",
   "metadata": {},
   "source": [
    "## 211\n",
    "함수의 호출 결과를 예측하라."
   ]
  },
  {
   "cell_type": "code",
   "execution_count": 27,
   "id": "96038ef3-1435-4026-a108-2a6a42eb353f",
   "metadata": {},
   "outputs": [
    {
     "name": "stdout",
     "output_type": "stream",
     "text": [
      "안녕\n",
      "Hi\n"
     ]
    }
   ],
   "source": [
    "def 함수(문자열) :\n",
    "    print(문자열)\n",
    "\n",
    "함수(\"안녕\")\n",
    "함수(\"Hi\")"
   ]
  },
  {
   "cell_type": "markdown",
   "id": "ba5e8421-454c-4c4a-aac0-35b6b9718c86",
   "metadata": {},
   "source": [
    "## 212\n",
    "함수의 호출 결과를 예측하라."
   ]
  },
  {
   "cell_type": "code",
   "execution_count": 29,
   "id": "e8c999d6-3492-48ad-8535-5b724021564e",
   "metadata": {},
   "outputs": [
    {
     "name": "stdout",
     "output_type": "stream",
     "text": [
      "7\n",
      "15\n"
     ]
    }
   ],
   "source": [
    "def 함수(a, b) :\n",
    "    print(a + b)\n",
    "\n",
    "함수(3, 4)\n",
    "함수(7, 8)"
   ]
  },
  {
   "cell_type": "markdown",
   "id": "8abf6512-9e60-4a30-9ddf-00dd37ac3442",
   "metadata": {},
   "source": [
    "## 213\n",
    "아래와 같은 에러가 발생하는 원인을 설명하라."
   ]
  },
  {
   "cell_type": "code",
   "execution_count": 33,
   "id": "71049cea-9bf0-48cf-a7e2-0e9a318afe57",
   "metadata": {},
   "outputs": [
    {
     "ename": "TypeError",
     "evalue": "함수() missing 1 required positional argument: '문자열'",
     "output_type": "error",
     "traceback": [
      "\u001b[1;31m---------------------------------------------------------------------------\u001b[0m",
      "\u001b[1;31mTypeError\u001b[0m                                 Traceback (most recent call last)",
      "Cell \u001b[1;32mIn[33], line 4\u001b[0m\n\u001b[0;32m      1\u001b[0m \u001b[38;5;28;01mdef\u001b[39;00m \u001b[38;5;21m함수\u001b[39m(문자열) :\n\u001b[0;32m      2\u001b[0m     \u001b[38;5;28mprint\u001b[39m(문자열)\n\u001b[1;32m----> 4\u001b[0m 함수()\n",
      "\u001b[1;31mTypeError\u001b[0m: 함수() missing 1 required positional argument: '문자열'"
     ]
    }
   ],
   "source": [
    "def 함수(문자열) :\n",
    "    print(문자열)\n",
    "\n",
    "함수()"
   ]
  },
  {
   "cell_type": "markdown",
   "id": "06738b15-3d38-4f86-b800-c2e66d638728",
   "metadata": {},
   "source": [
    "함수에 정의와 다르게 함수를 호출하고 있다. 함수를 호출할 때 하나의 파라미터(매개변수)를 입력해야한다."
   ]
  },
  {
   "cell_type": "markdown",
   "id": "87d0e955-3a6c-4491-803b-ae52f70c5638",
   "metadata": {},
   "source": [
    "## 214\n",
    "아래와 같은 에러가 발생하는 원인을 설명하라."
   ]
  },
  {
   "cell_type": "code",
   "execution_count": 36,
   "id": "b57d0129-a810-45b2-93ed-87877d3184f1",
   "metadata": {},
   "outputs": [
    {
     "ename": "TypeError",
     "evalue": "can only concatenate str (not \"int\") to str",
     "output_type": "error",
     "traceback": [
      "\u001b[1;31m---------------------------------------------------------------------------\u001b[0m",
      "\u001b[1;31mTypeError\u001b[0m                                 Traceback (most recent call last)",
      "Cell \u001b[1;32mIn[36], line 4\u001b[0m\n\u001b[0;32m      1\u001b[0m \u001b[38;5;28;01mdef\u001b[39;00m \u001b[38;5;21m함수\u001b[39m(a, b) :\n\u001b[0;32m      2\u001b[0m     \u001b[38;5;28mprint\u001b[39m(a \u001b[38;5;241m+\u001b[39m b)\n\u001b[1;32m----> 4\u001b[0m 함수(\u001b[38;5;124m\"\u001b[39m\u001b[38;5;124m안녕\u001b[39m\u001b[38;5;124m\"\u001b[39m, \u001b[38;5;241m3\u001b[39m)\n",
      "Cell \u001b[1;32mIn[36], line 2\u001b[0m, in \u001b[0;36m함수\u001b[1;34m(a, b)\u001b[0m\n\u001b[0;32m      1\u001b[0m \u001b[38;5;28;01mdef\u001b[39;00m \u001b[38;5;21m함수\u001b[39m(a, b) :\n\u001b[1;32m----> 2\u001b[0m     \u001b[38;5;28mprint\u001b[39m(a \u001b[38;5;241m+\u001b[39m b)\n",
      "\u001b[1;31mTypeError\u001b[0m: can only concatenate str (not \"int\") to str"
     ]
    }
   ],
   "source": [
    "def 함수(a, b) :\n",
    "    print(a + b)\n",
    "\n",
    "함수(\"안녕\", 3)"
   ]
  },
  {
   "cell_type": "markdown",
   "id": "5e345ad6-415c-49a4-8040-fe0abba8e5fa",
   "metadata": {},
   "source": [
    "연산이 이루어지기 위해서 문자열 -> 숫자열 로 입력하여야 한다. "
   ]
  },
  {
   "cell_type": "markdown",
   "id": "7c8fbb4d-301b-4fb8-a069-f93b539be78c",
   "metadata": {},
   "source": [
    "## 215\n",
    "하나의 문자를 입력받아 문자열 끝에 \":D\" 스마일 문자열을 이어 붙여 출력하는 print_with_smile 함수를 정의하라."
   ]
  },
  {
   "cell_type": "code",
   "execution_count": 40,
   "id": "6cd63c20-e338-4ddb-99cb-577e11065448",
   "metadata": {},
   "outputs": [],
   "source": [
    "def print_with_smile (string) :\n",
    "    print (string + \":D\")"
   ]
  },
  {
   "cell_type": "markdown",
   "id": "78bdc79f-8b91-41ab-ac43-bb0b183774b2",
   "metadata": {},
   "source": [
    "## 216\r\n",
    "215에서 정의한 함수를 호출하라. 파라미터는 \"안녕하세요\"로 입력하라."
   ]
  },
  {
   "cell_type": "code",
   "execution_count": 44,
   "id": "30e5abaa-7191-437a-bcc8-3df19fa9c794",
   "metadata": {},
   "outputs": [
    {
     "name": "stdout",
     "output_type": "stream",
     "text": [
      "안녕하세요:D\n"
     ]
    }
   ],
   "source": [
    "print_with_smile (\"안녕하세요\")"
   ]
  },
  {
   "cell_type": "markdown",
   "id": "e2fe89a4-3f2d-4238-8577-b27fe99ee38a",
   "metadata": {},
   "source": [
    "## 217\n",
    "현재 가격을 입력 받아 상한가 (30%)를 출력하는 print_upper_price 함수를 정의하라."
   ]
  },
  {
   "cell_type": "code",
   "execution_count": 46,
   "id": "fc65cdd9-5b8a-449c-8ee7-d613754a4c87",
   "metadata": {},
   "outputs": [],
   "source": [
    "def print_upper_price(price) :\n",
    "    print(price * 1.3)"
   ]
  },
  {
   "cell_type": "markdown",
   "id": "be9bfd80-1c9e-415d-9816-33e3e0a21820",
   "metadata": {},
   "source": [
    "## 218\n",
    "두 개의 숫자를 입력받아 두 수의 합을 출력하는 print_sum 함수를 정의하라."
   ]
  },
  {
   "cell_type": "code",
   "execution_count": 48,
   "id": "c7cf9772-8cf7-43d4-9840-4738214d194b",
   "metadata": {},
   "outputs": [],
   "source": [
    "def print_sum (a, b) :\n",
    "    print (a + b)"
   ]
  },
  {
   "cell_type": "markdown",
   "id": "89ad62b4-3644-4c9d-abcf-c3f157c3c994",
   "metadata": {},
   "source": [
    "## 219\r\n",
    "두 개의 숫자를 입력받아 합/차/곱/나눗셈을 출력하는 print_arithmetic_operation 함수를 작성하라."
   ]
  },
  {
   "cell_type": "code",
   "execution_count": 49,
   "id": "ddb708ba-7b8e-4b2b-877b-dd64e3c4a16d",
   "metadata": {},
   "outputs": [],
   "source": [
    "def print_arithmetic_operation(a, b):\n",
    "    print(a, \"+\", b, \"=\", a + b)\n",
    "    print(a, \"-\", b, \"=\", a - b)\n",
    "    print(a, \"*\", b, \"=\", a * b)\n",
    "    print(a, \"/\", b, \"=\", a / b)"
   ]
  },
  {
   "cell_type": "markdown",
   "id": "4d74a9da-b6b1-4813-a58b-be3c532f8844",
   "metadata": {},
   "source": [
    "## 220\r\n",
    "세 개의 숫자를 입력받아 가장 큰수를 출력하는 print_max 함수를 정의하라. 단 if 문을 사용해서 수를 비교하라."
   ]
  },
  {
   "cell_type": "code",
   "execution_count": 54,
   "id": "400204b4-aec5-40c9-a225-1832ccc4fc1c",
   "metadata": {},
   "outputs": [],
   "source": [
    "def print_max(a, b, c) :\n",
    "    max_val = 0\n",
    "    if a > max_val :\n",
    "        max_val = a\n",
    "    if b > max_val :\n",
    "        max_val = b\n",
    "    if c > max_val :\n",
    "        max_val = c\n",
    "    print(max_val)"
   ]
  },
  {
   "cell_type": "markdown",
   "id": "80f8dcd2-62c0-4c16-b1c4-69b35e1b8be1",
   "metadata": {},
   "source": [
    "## 221\r\n",
    "입력된 문자열을 역순으로 출력하는 print_reverse 함수를 정의하라."
   ]
  },
  {
   "cell_type": "code",
   "execution_count": 52,
   "id": "046136b8-4f9c-4789-a6ab-4fc266d3aeca",
   "metadata": {},
   "outputs": [
    {
     "name": "stdout",
     "output_type": "stream",
     "text": [
      "nohtyp\n"
     ]
    }
   ],
   "source": [
    "print_reverse(\"python\")\n",
    "\n",
    "def print_reverse(string) :\n",
    "    print(string[::-1])"
   ]
  },
  {
   "cell_type": "markdown",
   "id": "1e7ba8aa-9ab7-4973-b078-b79af7097068",
   "metadata": {},
   "source": [
    "## 222\r\n",
    "성적 리스트를 입력 받아 평균을 출력하는 print_score 함수를 정의하라."
   ]
  },
  {
   "cell_type": "code",
   "execution_count": 56,
   "id": "49948064-0142-487b-87e4-ba407a45e798",
   "metadata": {},
   "outputs": [
    {
     "name": "stdout",
     "output_type": "stream",
     "text": [
      "2.0\n"
     ]
    }
   ],
   "source": [
    "def print_score(score_list) :\n",
    "    print(sum(score_list)/len(score_list))\n",
    "\n",
    "print_score ([1, 2, 3])"
   ]
  },
  {
   "cell_type": "markdown",
   "id": "5b364de0-e4e1-4f6b-a98a-95138c15245f",
   "metadata": {},
   "source": [
    "## 223\n",
    "하나의 리스트를 입력받아 짝수만 화면에 출력하는 print_even 함수를 정의하라."
   ]
  },
  {
   "cell_type": "code",
   "execution_count": 57,
   "id": "420b296a-ea3d-4b0a-a3de-c97e7fbb28cd",
   "metadata": {},
   "outputs": [
    {
     "name": "stdout",
     "output_type": "stream",
     "text": [
      "2\n",
      "10\n",
      "12\n"
     ]
    }
   ],
   "source": [
    "def print_even (my_list) :\n",
    "    for v in my_list :\n",
    "        if v % 2 == 0 :\n",
    "            print(v)\n",
    "\n",
    "print_even ([1, 3, 2, 10, 12, 11, 15])"
   ]
  },
  {
   "cell_type": "markdown",
   "id": "6f1d8ed4-378f-4ea9-a300-72d44e648f71",
   "metadata": {},
   "source": [
    "## 224\n",
    "하나의 딕셔너리를 입력받아 딕셔너리의 key 값을 화면에 출력하는 print_keys 함수를 정의하라."
   ]
  },
  {
   "cell_type": "code",
   "execution_count": 58,
   "id": "082a1742-b578-46ea-9561-5f592e33d66b",
   "metadata": {},
   "outputs": [
    {
     "name": "stdout",
     "output_type": "stream",
     "text": [
      "이름\n",
      "나이\n",
      "성별\n"
     ]
    }
   ],
   "source": [
    "def print_keys(dic):\n",
    "    for keys in dic.keys():\n",
    "        print(keys)\n",
    "\n",
    "print_keys ({\"이름\":\"김말똥\", \"나이\":30, \"성별\":0})"
   ]
  },
  {
   "cell_type": "markdown",
   "id": "0049ccb6-4140-4d4a-8cf7-074600740718",
   "metadata": {},
   "source": [
    "## 225\r\n",
    "my_dict에는 날짜를 키값으로 OHLC가 리스트로 저장돼 있다."
   ]
  },
  {
   "cell_type": "code",
   "execution_count": 59,
   "id": "71aaeb76-fa19-462d-ad5e-3170f2c1b653",
   "metadata": {},
   "outputs": [
    {
     "name": "stdout",
     "output_type": "stream",
     "text": [
      "[100, 130, 100, 100]\n"
     ]
    }
   ],
   "source": [
    "my_dict = {\"10/26\" : [100, 130, 100, 100],\n",
    "           \"10/27\" : [10, 12, 10, 11]}\n",
    "\n",
    "def print_value_by_key (my_dict, key) :\n",
    "    print(my_dict[key])\n",
    "\n",
    "print_value_by_key  (my_dict, \"10/26\")"
   ]
  },
  {
   "cell_type": "markdown",
   "id": "8f82ceb8-b7a4-4169-a60b-d79476c54826",
   "metadata": {},
   "source": [
    "## 226\r\n",
    "입력 문자열을 한 줄에 다섯글자씩 출력하는 print_5xn(string) 함수를 작성하라."
   ]
  },
  {
   "cell_type": "code",
   "execution_count": 60,
   "id": "e4183cc4-5ae6-4ab6-a7a9-a585ffb8b5d6",
   "metadata": {},
   "outputs": [
    {
     "name": "stdout",
     "output_type": "stream",
     "text": [
      "아이엠어보\n",
      "이유알어걸\n",
      "\n"
     ]
    }
   ],
   "source": [
    "def print_5xn(line):\n",
    "    chunk_num = int(len(line) / 5)\n",
    "    for x in range(chunk_num + 1) :\n",
    "        print(line[x * 5: x * 5 + 5])\n",
    "\n",
    "print_5xn(\"아이엠어보이유알어걸\")"
   ]
  },
  {
   "cell_type": "markdown",
   "id": "b5f9cbf4-4b59-43c3-bd91-3b7cd8906538",
   "metadata": {},
   "source": [
    "## 227\r\n",
    "문자열과 한줄에 출력될 글자 수를 입력을 받아 한 줄에 입력된 글자 수만큼 출력하는 print_mxn(string) 함수를 작성하라."
   ]
  },
  {
   "cell_type": "code",
   "execution_count": 63,
   "id": "54843638-9302-419f-9653-cc8acd3111a3",
   "metadata": {},
   "outputs": [],
   "source": [
    "def print_mxn(line, num):\n",
    "    chunk_num = int(len(line) / num)\n",
    "    for x in range(chunk_num + 1) :\n",
    "        print(line[x * num: x * num + num])"
   ]
  },
  {
   "cell_type": "markdown",
   "id": "0fb72921-2221-4076-a8b0-7bdae1b9d385",
   "metadata": {},
   "source": [
    "## 228\r\n",
    "연봉을 입력받아 월급을 계산하는 calc_monthly_salary(annual_salary) 함수를 정의하라. 회사는 연봉을 12개월로 나누어 분할 지급하며, 이 때 1원 미만은 버림한다."
   ]
  },
  {
   "cell_type": "code",
   "execution_count": 65,
   "id": "8e19db16-8b86-49d0-a449-c15cce2bc287",
   "metadata": {},
   "outputs": [],
   "source": [
    "def calc_monthly_salary(annual_pay) :\n",
    "    monthly_pay = int(annual_pay / 12)\n",
    "    return monthly_pay"
   ]
  },
  {
   "cell_type": "markdown",
   "id": "e44ae850-fa55-4ca5-b901-1a49dc52892f",
   "metadata": {},
   "source": [
    "## 229\r\n",
    "아래 코드의 실행 결과를 예측하라."
   ]
  },
  {
   "cell_type": "code",
   "execution_count": 66,
   "id": "b62414d0-7d4d-4c76-844f-d4b21505911e",
   "metadata": {},
   "outputs": [
    {
     "name": "stdout",
     "output_type": "stream",
     "text": [
      "왼쪽: 100\n",
      "오른쪽: 200\n"
     ]
    }
   ],
   "source": [
    "def my_print (a, b) :\n",
    "    print(\"왼쪽:\", a)\n",
    "    print(\"오른쪽:\", b)\n",
    "\n",
    "my_print(a=100, b=200)"
   ]
  },
  {
   "cell_type": "markdown",
   "id": "53fec0cc-bbd5-4379-a27e-0b4ee4f763a0",
   "metadata": {},
   "source": [
    "## 230\r\n",
    "아래 코드의 실행 결과를 예측하라."
   ]
  },
  {
   "cell_type": "code",
   "execution_count": 67,
   "id": "7d3b257d-5ef7-4a02-b0eb-ea9ac5fb3c1b",
   "metadata": {},
   "outputs": [
    {
     "name": "stdout",
     "output_type": "stream",
     "text": [
      "왼쪽: 200\n",
      "오른쪽: 100\n"
     ]
    }
   ],
   "source": [
    "def my_print (a, b) :\n",
    "    print(\"왼쪽:\", a)\n",
    "    print(\"오른쪽:\", b)\n",
    "\n",
    "my_print(b=100, a=200)"
   ]
  },
  {
   "cell_type": "markdown",
   "id": "effef8a5-becd-474f-b059-7e614b8cbcbf",
   "metadata": {},
   "source": [
    "## 231\r\n",
    "아래 코드를 실행한 결과를 예상하라."
   ]
  },
  {
   "cell_type": "code",
   "execution_count": 68,
   "id": "92937c0d-b41a-47b3-9398-ab5e9c02b822",
   "metadata": {},
   "outputs": [
    {
     "ename": "NameError",
     "evalue": "name 'result' is not defined",
     "output_type": "error",
     "traceback": [
      "\u001b[1;31m---------------------------------------------------------------------------\u001b[0m",
      "\u001b[1;31mNameError\u001b[0m                                 Traceback (most recent call last)",
      "Cell \u001b[1;32mIn[68], line 5\u001b[0m\n\u001b[0;32m      2\u001b[0m     result \u001b[38;5;241m=\u001b[39m n \u001b[38;5;241m+\u001b[39m \u001b[38;5;241m1\u001b[39m\n\u001b[0;32m      4\u001b[0m n_plus_1(\u001b[38;5;241m3\u001b[39m)\n\u001b[1;32m----> 5\u001b[0m \u001b[38;5;28mprint\u001b[39m (result)\n",
      "\u001b[1;31mNameError\u001b[0m: name 'result' is not defined"
     ]
    }
   ],
   "source": [
    "def n_plus_1 (n) :\n",
    "    result = n + 1\n",
    "\n",
    "n_plus_1(3)\n",
    "print (result)"
   ]
  },
  {
   "cell_type": "markdown",
   "id": "ef11f13e-cd89-4e17-8927-2a2ad118c9ea",
   "metadata": {},
   "source": [
    "## 232\r\n",
    "문자열 하나를 입력받아 인터넷 주소를 반환하는 make_url 함수를 정의하라."
   ]
  },
  {
   "cell_type": "code",
   "execution_count": 69,
   "id": "4beacf7c-628a-4d4d-9689-0ec5e613922b",
   "metadata": {},
   "outputs": [],
   "source": [
    "def make_url(string) :\n",
    "    url = \"www.\" + string + \".com\"\n",
    "    return url"
   ]
  },
  {
   "cell_type": "markdown",
   "id": "25a5d5d1-4159-4301-9d82-ef22c9807154",
   "metadata": {},
   "source": [
    "## 233\r\n",
    "문자열을 입력받아 각 문자들로 구성된 리스트로 반환하는 make_list 함수를 정의하라."
   ]
  },
  {
   "cell_type": "code",
   "execution_count": 70,
   "id": "a9f42b54-3a79-419b-9b44-3c409e512f28",
   "metadata": {},
   "outputs": [
    {
     "data": {
      "text/plain": [
       "['a', 'b', 'c', 'd']"
      ]
     },
     "execution_count": 70,
     "metadata": {},
     "output_type": "execute_result"
    }
   ],
   "source": [
    "def make_list (string) :\n",
    "    my_list = []\n",
    "    for 변수 in string :\n",
    "        my_list.append(변수)\n",
    "    return my_list\n",
    "\n",
    "def make_list (string) :\n",
    "    return list(string)\n",
    "\n",
    "make_list(\"abcd\")"
   ]
  },
  {
   "cell_type": "markdown",
   "id": "4dcbcb54-fdc2-414a-ac5c-eec49b75f6fe",
   "metadata": {},
   "source": [
    "## 234\r\n",
    "숫자로 구성된 하나의 리스트를 입력받아, 짝수들을 추출하여 리스트로 반환하는 pickup_even 함수를 구현하라."
   ]
  },
  {
   "cell_type": "code",
   "execution_count": 71,
   "id": "be6c3093-e466-4886-8fbc-f0f97d2594c4",
   "metadata": {},
   "outputs": [
    {
     "data": {
      "text/plain": [
       "[4, 6, 8]"
      ]
     },
     "execution_count": 71,
     "metadata": {},
     "output_type": "execute_result"
    }
   ],
   "source": [
    "def pickup_even(items):\n",
    "    result = []\n",
    "    for item in items:\n",
    "        if item % 2 == 0:\n",
    "            result.append(item)\n",
    "    return result\n",
    "\n",
    "pickup_even([3, 4, 5, 6, 7, 8])"
   ]
  },
  {
   "cell_type": "markdown",
   "id": "9aab0adc-6b8a-433a-a3ab-8e12b9314e74",
   "metadata": {},
   "source": [
    "## 235\r\n",
    "콤마가 포함된 문자열 숫자를 입력받아 정수로 변환하는 convert_int 함수를 정의하라."
   ]
  },
  {
   "cell_type": "code",
   "execution_count": 72,
   "id": "48d125dd-8ef8-4a55-a687-5fdd454baebf",
   "metadata": {},
   "outputs": [
    {
     "data": {
      "text/plain": [
       "1234567"
      ]
     },
     "execution_count": 72,
     "metadata": {},
     "output_type": "execute_result"
    }
   ],
   "source": [
    "def convert_int (string) :\n",
    "    return int(string.replace(',', ''))\n",
    "\n",
    "convert_int(\"1,234,567\")"
   ]
  },
  {
   "cell_type": "markdown",
   "id": "268f8d31-04ee-4ba2-b054-670a150434ac",
   "metadata": {},
   "source": [
    "## 236\r\n",
    "아래 코드의 실행 결과를 예측하라."
   ]
  },
  {
   "cell_type": "code",
   "execution_count": 73,
   "id": "802e604c-1dcb-48d7-8a9d-499a46fb07b1",
   "metadata": {},
   "outputs": [
    {
     "name": "stdout",
     "output_type": "stream",
     "text": [
      "22\n"
     ]
    }
   ],
   "source": [
    "def 함수(num) :\n",
    "    return num + 4\n",
    "\n",
    "a = 함수(10)\n",
    "b = 함수(a)\n",
    "c = 함수(b)\n",
    "print(c)"
   ]
  },
  {
   "cell_type": "markdown",
   "id": "f9dc6a20-0344-473d-8239-7a8aaae5c075",
   "metadata": {},
   "source": [
    "## 237\r\n",
    "아래 코드의 실행 결과를 예측하라."
   ]
  },
  {
   "cell_type": "code",
   "execution_count": 74,
   "id": "33a77e14-145b-4af2-a20a-5deb88bc7b63",
   "metadata": {},
   "outputs": [
    {
     "name": "stdout",
     "output_type": "stream",
     "text": [
      "22\n"
     ]
    }
   ],
   "source": [
    "def 함수(num) :\n",
    "    return num + 4\n",
    "\n",
    "c = 함수(함수(함수(10)))\n",
    "print(c)"
   ]
  },
  {
   "cell_type": "markdown",
   "id": "02895217-4fc5-4fde-809c-8bca82d5bbbe",
   "metadata": {},
   "source": [
    "## 238\r\n",
    "아래 코드의 실행 결과를 예측하라."
   ]
  },
  {
   "cell_type": "code",
   "execution_count": 75,
   "id": "07aff955-0523-4a49-b81a-403c78a336bf",
   "metadata": {},
   "outputs": [
    {
     "name": "stdout",
     "output_type": "stream",
     "text": [
      "140\n"
     ]
    }
   ],
   "source": [
    "def 함수1(num) :\n",
    "    return num + 4\n",
    "\n",
    "def 함수2(num) :\n",
    "    return num * 10\n",
    "\n",
    "a = 함수1(10)\n",
    "c = 함수2(a)\n",
    "print(c)"
   ]
  },
  {
   "cell_type": "markdown",
   "id": "2084cb73-67c5-4f72-82b1-c4e0c6b5b2ad",
   "metadata": {},
   "source": [
    "## 239\r\n",
    "아래 코드의 실행 결과를 예측하라."
   ]
  },
  {
   "cell_type": "code",
   "execution_count": 76,
   "id": "e5285805-115d-4231-9d91-691262608b22",
   "metadata": {},
   "outputs": [
    {
     "name": "stdout",
     "output_type": "stream",
     "text": [
      "16\n"
     ]
    }
   ],
   "source": [
    "def 함수1(num) :\n",
    "    return num + 4\n",
    "\n",
    "def 함수2(num) :\n",
    "    num = num + 2\n",
    "    return 함수1(num)\n",
    "\n",
    "c = 함수2(10)\n",
    "print(c)"
   ]
  },
  {
   "cell_type": "markdown",
   "id": "e931d327-e854-410b-a03a-80b724868f28",
   "metadata": {},
   "source": [
    "## 240\r\n",
    "아래 코드의 실행 결과를 예측하라."
   ]
  },
  {
   "cell_type": "code",
   "execution_count": 77,
   "id": "96450160-3e73-4b4c-939b-641d0b5929b9",
   "metadata": {},
   "outputs": [
    {
     "name": "stdout",
     "output_type": "stream",
     "text": [
      "28\n"
     ]
    }
   ],
   "source": [
    "def 함수0(num) :\n",
    "    return num * 2\n",
    "\n",
    "def 함수1(num) :\n",
    "    return 함수0(num + 2)\n",
    "\n",
    "def 함수2(num) :\n",
    "    num = num + 10\n",
    "    return 함수1(num)\n",
    "\n",
    "c = 함수2(2)\n",
    "print(c)"
   ]
  }
 ],
 "metadata": {
  "kernelspec": {
   "display_name": "Python 3 (ipykernel)",
   "language": "python",
   "name": "python3"
  },
  "language_info": {
   "codemirror_mode": {
    "name": "ipython",
    "version": 3
   },
   "file_extension": ".py",
   "mimetype": "text/x-python",
   "name": "python",
   "nbconvert_exporter": "python",
   "pygments_lexer": "ipython3",
   "version": "3.12.4"
  }
 },
 "nbformat": 4,
 "nbformat_minor": 5
}
