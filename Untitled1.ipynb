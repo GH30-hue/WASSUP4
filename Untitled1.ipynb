{
 "cells": [
  {
   "cell_type": "code",
   "execution_count": 3,
   "id": "00bea698-bd68-458e-913f-bf37e990b0d2",
   "metadata": {},
   "outputs": [
    {
     "name": "stdout",
     "output_type": "stream",
     "text": [
      "Requirement already satisfied: selenium in c:\\users\\moonj\\anaconda3\\lib\\site-packages (4.25.0)\n",
      "Requirement already satisfied: urllib3<3,>=1.26 in c:\\users\\moonj\\anaconda3\\lib\\site-packages (from urllib3[socks]<3,>=1.26->selenium) (2.2.2)\n",
      "Requirement already satisfied: trio~=0.17 in c:\\users\\moonj\\anaconda3\\lib\\site-packages (from selenium) (0.26.2)\n",
      "Requirement already satisfied: trio-websocket~=0.9 in c:\\users\\moonj\\anaconda3\\lib\\site-packages (from selenium) (0.11.1)\n",
      "Requirement already satisfied: certifi>=2021.10.8 in c:\\users\\moonj\\anaconda3\\lib\\site-packages (from selenium) (2024.7.4)\n",
      "Requirement already satisfied: typing_extensions~=4.9 in c:\\users\\moonj\\anaconda3\\lib\\site-packages (from selenium) (4.11.0)\n",
      "Requirement already satisfied: websocket-client~=1.8 in c:\\users\\moonj\\anaconda3\\lib\\site-packages (from selenium) (1.8.0)\n",
      "Requirement already satisfied: attrs>=23.2.0 in c:\\users\\moonj\\anaconda3\\lib\\site-packages (from trio~=0.17->selenium) (24.2.0)\n",
      "Requirement already satisfied: sortedcontainers in c:\\users\\moonj\\anaconda3\\lib\\site-packages (from trio~=0.17->selenium) (2.4.0)\n",
      "Requirement already satisfied: idna in c:\\users\\moonj\\anaconda3\\lib\\site-packages (from trio~=0.17->selenium) (3.7)\n",
      "Requirement already satisfied: outcome in c:\\users\\moonj\\anaconda3\\lib\\site-packages (from trio~=0.17->selenium) (1.3.0.post0)\n",
      "Requirement already satisfied: sniffio>=1.3.0 in c:\\users\\moonj\\anaconda3\\lib\\site-packages (from trio~=0.17->selenium) (1.3.0)\n",
      "Requirement already satisfied: cffi>=1.14 in c:\\users\\moonj\\anaconda3\\lib\\site-packages (from trio~=0.17->selenium) (1.16.0)\n",
      "Requirement already satisfied: wsproto>=0.14 in c:\\users\\moonj\\anaconda3\\lib\\site-packages (from trio-websocket~=0.9->selenium) (1.2.0)\n",
      "Requirement already satisfied: pysocks!=1.5.7,<2.0,>=1.5.6 in c:\\users\\moonj\\anaconda3\\lib\\site-packages (from urllib3[socks]<3,>=1.26->selenium) (1.7.1)\n",
      "Requirement already satisfied: pycparser in c:\\users\\moonj\\anaconda3\\lib\\site-packages (from cffi>=1.14->trio~=0.17->selenium) (2.21)\n",
      "Requirement already satisfied: h11<1,>=0.9.0 in c:\\users\\moonj\\anaconda3\\lib\\site-packages (from wsproto>=0.14->trio-websocket~=0.9->selenium) (0.14.0)\n"
     ]
    }
   ],
   "source": [
    "!pip install selenium"
   ]
  },
  {
   "cell_type": "code",
   "execution_count": 6,
   "id": "1e1ea3c7-01e9-4a98-8f17-67aaccf8cdb5",
   "metadata": {},
   "outputs": [
    {
     "data": {
      "text/plain": [
       "<selenium.webdriver.chrome.options.Options at 0x2b2c88f7c20>"
      ]
     },
     "execution_count": 6,
     "metadata": {},
     "output_type": "execute_result"
    }
   ],
   "source": [
    "from selenium import webdriver\n",
    "from selenium.webdriver.common.by import By\n",
    "from selenium.webdriver.chrome.options import Options\n",
    "import time\n",
    "\n",
    "options = Options()\n",
    "options"
   ]
  },
  {
   "cell_type": "code",
   "execution_count": 7,
   "id": "6acbd13f-527f-4abc-bfe8-b12d2262e409",
   "metadata": {},
   "outputs": [],
   "source": [
    "options.add_experimental_option(\"detach\", True)"
   ]
  },
  {
   "cell_type": "code",
   "execution_count": 16,
   "id": "87caf24b-2c12-421a-aeb4-d56805814880",
   "metadata": {},
   "outputs": [],
   "source": [
    "url = 'https://naver.com'\n",
    "driver = webdriver.Chrome(options=options)"
   ]
  },
  {
   "cell_type": "code",
   "execution_count": 17,
   "id": "1f12c9d1-7ab8-4a2e-b785-eb8eb3b99056",
   "metadata": {},
   "outputs": [],
   "source": [
    "driver.get(url)\n",
    "time.sleep(2)"
   ]
  },
  {
   "cell_type": "code",
   "execution_count": 18,
   "id": "4c5646fd-6f09-4aa2-8da8-1475dee67617",
   "metadata": {},
   "outputs": [],
   "source": [
    "driver.back()"
   ]
  },
  {
   "cell_type": "code",
   "execution_count": 19,
   "id": "17878057-a333-4a90-8b1e-15762d37c34f",
   "metadata": {},
   "outputs": [],
   "source": [
    "driver.forward()"
   ]
  },
  {
   "cell_type": "code",
   "execution_count": 12,
   "id": "c3798c51-5f0f-4b20-9d47-f2aa61b6e67c",
   "metadata": {},
   "outputs": [],
   "source": [
    "driver.refresh()"
   ]
  },
  {
   "cell_type": "code",
   "execution_count": 20,
   "id": "077b5121-1e9b-4d62-8409-8af0cb9a2846",
   "metadata": {},
   "outputs": [
    {
     "name": "stdout",
     "output_type": "stream",
     "text": [
      "NAVER https://www.naver.com/ 1F1DF435F3C4B8F778BA3AFC3E5772C3\n"
     ]
    }
   ],
   "source": [
    "title = driver.title\n",
    "url = driver.current_url\n",
    "handle = driver.current_window_handle\n",
    "print(title, url, handle)"
   ]
  },
  {
   "cell_type": "code",
   "execution_count": 14,
   "id": "26124a07-449a-469f-b763-165027238359",
   "metadata": {},
   "outputs": [
    {
     "data": {
      "text/plain": [
       "\u001b[1;31mSignature:\u001b[0m \u001b[0mdriver\u001b[0m\u001b[1;33m.\u001b[0m\u001b[0mfind_element\u001b[0m\u001b[1;33m(\u001b[0m\u001b[0mby\u001b[0m\u001b[1;33m=\u001b[0m\u001b[1;34m'id'\u001b[0m\u001b[1;33m,\u001b[0m \u001b[0mvalue\u001b[0m\u001b[1;33m:\u001b[0m \u001b[0mOptional\u001b[0m\u001b[1;33m[\u001b[0m\u001b[0mstr\u001b[0m\u001b[1;33m]\u001b[0m \u001b[1;33m=\u001b[0m \u001b[1;32mNone\u001b[0m\u001b[1;33m)\u001b[0m \u001b[1;33m->\u001b[0m \u001b[0mselenium\u001b[0m\u001b[1;33m.\u001b[0m\u001b[0mwebdriver\u001b[0m\u001b[1;33m.\u001b[0m\u001b[0mremote\u001b[0m\u001b[1;33m.\u001b[0m\u001b[0mwebelement\u001b[0m\u001b[1;33m.\u001b[0m\u001b[0mWebElement\u001b[0m\u001b[1;33m\u001b[0m\u001b[1;33m\u001b[0m\u001b[0m\n",
       "\u001b[1;31mDocstring:\u001b[0m\n",
       "Find an element given a By strategy and locator.\n",
       "\n",
       ":Usage:\n",
       "    ::\n",
       "\n",
       "        element = driver.find_element(By.ID, 'foo')\n",
       "\n",
       ":rtype: WebElement\n",
       "\u001b[1;31mFile:\u001b[0m      c:\\users\\moonj\\anaconda3\\lib\\site-packages\\selenium\\webdriver\\remote\\webdriver.py\n",
       "\u001b[1;31mType:\u001b[0m      method"
      ]
     },
     "metadata": {},
     "output_type": "display_data"
    }
   ],
   "source": [
    "driver.find_element?"
   ]
  },
  {
   "cell_type": "code",
   "execution_count": 21,
   "id": "95b710e8-a06e-44ee-9b0d-b4abcf62f006",
   "metadata": {},
   "outputs": [
    {
     "data": {
      "text/plain": [
       "<selenium.webdriver.remote.webelement.WebElement (session=\"441030df16af0af0cc4d478ccd9da592\", element=\"f.1F1DF435F3C4B8F778BA3AFC3E5772C3.d.A2FB0D99693D2235064D9AFF2E517F01.e.130\")>"
      ]
     },
     "execution_count": 21,
     "metadata": {},
     "output_type": "execute_result"
    }
   ],
   "source": [
    "driver.find_element(By.ID, 'query')"
   ]
  },
  {
   "cell_type": "code",
   "execution_count": 22,
   "id": "3d569040-eb8b-4508-9b16-b583c398b854",
   "metadata": {},
   "outputs": [],
   "source": [
    "driver.find_element(By.ID, 'query').send_keys('뉴진스')"
   ]
  },
  {
   "cell_type": "code",
   "execution_count": 23,
   "id": "0bb64f58-c204-4d0e-8c16-a56a446ce191",
   "metadata": {},
   "outputs": [],
   "source": [
    "driver.find_element(By.CLASS_NAME, 'search_input').send_keys('블랙핑크')"
   ]
  },
  {
   "cell_type": "code",
   "execution_count": 24,
   "id": "de8bf74e-35b7-4429-876c-7c1f2edca9bc",
   "metadata": {},
   "outputs": [],
   "source": [
    "driver.find_element(By.NAME, 'query').send_keys('르세라핌')"
   ]
  },
  {
   "cell_type": "code",
   "execution_count": 25,
   "id": "65917c61-a266-45b5-88e5-630926422ca5",
   "metadata": {},
   "outputs": [],
   "source": [
    "driver.find_element(By.CSS_SELECTOR, '#query').send_keys('에스파')"
   ]
  },
  {
   "cell_type": "code",
   "execution_count": 26,
   "id": "1d53a1ca-35e7-42dd-934c-391746ed2aad",
   "metadata": {},
   "outputs": [],
   "source": [
    "driver.find_element(By.CSS_SELECTOR, '.search_input').send_keys('세븐틴')"
   ]
  },
  {
   "cell_type": "code",
   "execution_count": 27,
   "id": "bc6f52d1-ad33-4e0d-b54f-a6f74eba8165",
   "metadata": {},
   "outputs": [],
   "source": [
    "driver.find_element(By.CSS_SELECTOR, \"[title='검색어를 입력해 주세요.']\").send_keys('트와이스')"
   ]
  },
  {
   "cell_type": "code",
   "execution_count": 28,
   "id": "1ac16bff-66c4-4d13-8535-35a3da59be39",
   "metadata": {},
   "outputs": [],
   "source": [
    "driver.find_element(By.XPATH, '//*[@id=\"query\"]').send_keys('BTS')"
   ]
  },
  {
   "cell_type": "code",
   "execution_count": 31,
   "id": "ce62467d-a29a-445b-925f-0c0eecaef3fc",
   "metadata": {},
   "outputs": [
    {
     "data": {
      "text/plain": [
       "<selenium.webdriver.remote.webelement.WebElement (session=\"441030df16af0af0cc4d478ccd9da592\", element=\"f.1F1DF435F3C4B8F778BA3AFC3E5772C3.d.A2FB0D99693D2235064D9AFF2E517F01.e.1120\")>"
      ]
     },
     "execution_count": 31,
     "metadata": {},
     "output_type": "execute_result"
    }
   ],
   "source": [
    "driver.find_element(By.LINK_TEXT, '쇼핑')"
   ]
  },
  {
   "cell_type": "code",
   "execution_count": 32,
   "id": "7bd2f98e-00ea-4eed-92f1-a5bc7d878a3f",
   "metadata": {},
   "outputs": [],
   "source": [
    "driver.find_element(By.LINK_TEXT, '쇼핑').click()"
   ]
  },
  {
   "cell_type": "code",
   "execution_count": 33,
   "id": "b1f116f8-b7a2-460d-b832-d3daf8820cf4",
   "metadata": {},
   "outputs": [],
   "source": [
    "driver.find_element(By.PARTIAL_LINK_TEXT, '증').click()"
   ]
  },
  {
   "cell_type": "code",
   "execution_count": 34,
   "id": "3e128b90-71be-45d4-be2d-d8aa9d6c0ef5",
   "metadata": {},
   "outputs": [
    {
     "data": {
      "text/plain": [
       "<selenium.webdriver.remote.webelement.WebElement (session=\"441030df16af0af0cc4d478ccd9da592\", element=\"f.1F1DF435F3C4B8F778BA3AFC3E5772C3.d.A2FB0D99693D2235064D9AFF2E517F01.e.1001\")>"
      ]
     },
     "execution_count": 34,
     "metadata": {},
     "output_type": "execute_result"
    }
   ],
   "source": [
    "driver.find_element(By.TAG_NAME, 'div')"
   ]
  },
  {
   "cell_type": "code",
   "execution_count": 35,
   "id": "a8534f0e-6b7a-4f68-9a7b-b395c0479664",
   "metadata": {},
   "outputs": [
    {
     "data": {
      "text/plain": [
       "[<selenium.webdriver.remote.webelement.WebElement (session=\"441030df16af0af0cc4d478ccd9da592\", element=\"f.1F1DF435F3C4B8F778BA3AFC3E5772C3.d.A2FB0D99693D2235064D9AFF2E517F01.e.1111\")>,\n",
       " <selenium.webdriver.remote.webelement.WebElement (session=\"441030df16af0af0cc4d478ccd9da592\", element=\"f.1F1DF435F3C4B8F778BA3AFC3E5772C3.d.A2FB0D99693D2235064D9AFF2E517F01.e.1114\")>,\n",
       " <selenium.webdriver.remote.webelement.WebElement (session=\"441030df16af0af0cc4d478ccd9da592\", element=\"f.1F1DF435F3C4B8F778BA3AFC3E5772C3.d.A2FB0D99693D2235064D9AFF2E517F01.e.1117\")>,\n",
       " <selenium.webdriver.remote.webelement.WebElement (session=\"441030df16af0af0cc4d478ccd9da592\", element=\"f.1F1DF435F3C4B8F778BA3AFC3E5772C3.d.A2FB0D99693D2235064D9AFF2E517F01.e.1120\")>,\n",
       " <selenium.webdriver.remote.webelement.WebElement (session=\"441030df16af0af0cc4d478ccd9da592\", element=\"f.1F1DF435F3C4B8F778BA3AFC3E5772C3.d.A2FB0D99693D2235064D9AFF2E517F01.e.1123\")>,\n",
       " <selenium.webdriver.remote.webelement.WebElement (session=\"441030df16af0af0cc4d478ccd9da592\", element=\"f.1F1DF435F3C4B8F778BA3AFC3E5772C3.d.A2FB0D99693D2235064D9AFF2E517F01.e.1126\")>,\n",
       " <selenium.webdriver.remote.webelement.WebElement (session=\"441030df16af0af0cc4d478ccd9da592\", element=\"f.1F1DF435F3C4B8F778BA3AFC3E5772C3.d.A2FB0D99693D2235064D9AFF2E517F01.e.1129\")>,\n",
       " <selenium.webdriver.remote.webelement.WebElement (session=\"441030df16af0af0cc4d478ccd9da592\", element=\"f.1F1DF435F3C4B8F778BA3AFC3E5772C3.d.A2FB0D99693D2235064D9AFF2E517F01.e.1132\")>,\n",
       " <selenium.webdriver.remote.webelement.WebElement (session=\"441030df16af0af0cc4d478ccd9da592\", element=\"f.1F1DF435F3C4B8F778BA3AFC3E5772C3.d.A2FB0D99693D2235064D9AFF2E517F01.e.1135\")>,\n",
       " <selenium.webdriver.remote.webelement.WebElement (session=\"441030df16af0af0cc4d478ccd9da592\", element=\"f.1F1DF435F3C4B8F778BA3AFC3E5772C3.d.A2FB0D99693D2235064D9AFF2E517F01.e.1138\")>,\n",
       " <selenium.webdriver.remote.webelement.WebElement (session=\"441030df16af0af0cc4d478ccd9da592\", element=\"f.1F1DF435F3C4B8F778BA3AFC3E5772C3.d.A2FB0D99693D2235064D9AFF2E517F01.e.1141\")>]"
      ]
     },
     "execution_count": 35,
     "metadata": {},
     "output_type": "execute_result"
    }
   ],
   "source": [
    "driver.find_elements(By.CSS_SELECTOR, '.link_service')"
   ]
  },
  {
   "cell_type": "code",
   "execution_count": 36,
   "id": "f62e46a8-969d-47f5-8c7d-3e52642fe49a",
   "metadata": {},
   "outputs": [
    {
     "data": {
      "text/plain": [
       "'https://mail.naver.com/'"
      ]
     },
     "execution_count": 36,
     "metadata": {},
     "output_type": "execute_result"
    }
   ],
   "source": [
    "driver.find_elements(By.CSS_SELECTOR, '.link_service')[0].get_attribute('href')"
   ]
  },
  {
   "cell_type": "code",
   "execution_count": 37,
   "id": "69ffe8fd-2349-4d24-ba8a-365ce89dcc8c",
   "metadata": {},
   "outputs": [
    {
     "name": "stdout",
     "output_type": "stream",
     "text": [
      "https://mail.naver.com/\n",
      "https://cafe.naver.com/\n",
      "https://blog.naver.com/\n",
      "https://shopping.naver.com/home\n",
      "https://news.naver.com/\n",
      "https://finance.naver.com/\n",
      "https://land.naver.com/\n",
      "https://map.naver.com/\n",
      "https://comic.naver.com/\n",
      "https://chzzk.naver.com/\n",
      "https://www.naver.com/#\n"
     ]
    }
   ],
   "source": [
    "links = driver.find_elements(By.CSS_SELECTOR, '.link_service')\n",
    "for link in links:\n",
    "    print(link.get_attribute('href'))"
   ]
  },
  {
   "cell_type": "code",
   "execution_count": null,
   "id": "99aadabf-482d-4a62-95dd-d43deddbdf48",
   "metadata": {},
   "outputs": [],
   "source": []
  }
 ],
 "metadata": {
  "kernelspec": {
   "display_name": "Python 3 (ipykernel)",
   "language": "python",
   "name": "python3"
  },
  "language_info": {
   "codemirror_mode": {
    "name": "ipython",
    "version": 3
   },
   "file_extension": ".py",
   "mimetype": "text/x-python",
   "name": "python",
   "nbconvert_exporter": "python",
   "pygments_lexer": "ipython3",
   "version": "3.12.4"
  }
 },
 "nbformat": 4,
 "nbformat_minor": 5
}
