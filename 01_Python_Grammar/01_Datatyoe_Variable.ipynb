{
 "cells": [
  {
   "cell_type": "code",
   "execution_count": 3,
   "id": "19e0bede-3282-4311-87db-b793c6637ca2",
   "metadata": {},
   "outputs": [],
   "source": [
    "##051 리스트 생성"
   ]
  },
  {
   "cell_type": "code",
   "execution_count": 4,
   "id": "9e71d83a-2c62-40a3-b1b3-a8e26d6dfd06",
   "metadata": {},
   "outputs": [],
   "source": [
    "movie_rank = [\"닥터 스트레인지\", \"스플릿\", \"럭키\"]"
   ]
  },
  {
   "cell_type": "code",
   "execution_count": 9,
   "id": "3eab4860-8cdd-4612-a458-7010e38f6818",
   "metadata": {},
   "outputs": [],
   "source": [
    "##052 리스트에 원소 추가"
   ]
  },
  {
   "cell_type": "code",
   "execution_count": 10,
   "id": "dbfefaf7-445b-4461-84d8-dd6a862c5469",
   "metadata": {},
   "outputs": [
    {
     "name": "stdout",
     "output_type": "stream",
     "text": [
      "['닥터 스트레인지', '스플릿', '럭키', '배트맨']\n"
     ]
    }
   ],
   "source": [
    "movie_rank = [\"닥터 스트레인지\", \"스플릿\", \"럭키\"]\n",
    "movie_rank.append(\"배트맨\")\n",
    "print(movie_rank)"
   ]
  },
  {
   "cell_type": "code",
   "execution_count": 12,
   "id": "5237b2ee-a583-4634-a86c-73fc4d4c2c8f",
   "metadata": {},
   "outputs": [],
   "source": [
    "##053 "
   ]
  },
  {
   "cell_type": "code",
   "execution_count": null,
   "id": "1d9e3f98-0934-4f9f-92bf-3980d0ce894f",
   "metadata": {},
   "outputs": [],
   "source": [
    "movie_rank = ['닥터 스트레인지', '스플릿', '럭키', '배트맨']\n",
    "movie_rank.insert(1, \"슈퍼맨\")\n",
    "print(movie_rank)"
   ]
  },
  {
   "cell_type": "code",
   "execution_count": 14,
   "id": "f97c8892-5ff8-485e-bb1f-f35046541371",
   "metadata": {},
   "outputs": [],
   "source": [
    "##054 "
   ]
  },
  {
   "cell_type": "code",
   "execution_count": 15,
   "id": "9ec83e9c-0c56-4328-a2dc-e615e2ff06d4",
   "metadata": {},
   "outputs": [
    {
     "name": "stdout",
     "output_type": "stream",
     "text": [
      "['닥터 스트레인지', '슈퍼맨', '스플릿', '배트맨']\n"
     ]
    }
   ],
   "source": [
    "movie_rank = ['닥터 스트레인지', '슈퍼맨', '스플릿', '럭키', '배트맨']\n",
    "del movie_rank[3]\n",
    "print(movie_rank)"
   ]
  },
  {
   "cell_type": "code",
   "execution_count": 17,
   "id": "99e6567f-e53a-44fe-9948-ce431e3e8224",
   "metadata": {},
   "outputs": [],
   "source": [
    "##055"
   ]
  },
  {
   "cell_type": "code",
   "execution_count": 18,
   "id": "276e8d8f-919c-4764-acbe-e96dc3b78d6a",
   "metadata": {},
   "outputs": [
    {
     "name": "stdout",
     "output_type": "stream",
     "text": [
      "['닥터 스트레인지', '슈퍼맨']\n"
     ]
    }
   ],
   "source": [
    "movie_rank = ['닥터 스트레인지', '슈퍼맨', '스플릿', '배트맨']\n",
    "del movie_rank[2]\n",
    "del movie_rank[2]\n",
    "print(movie_rank)"
   ]
  },
  {
   "cell_type": "code",
   "execution_count": 20,
   "id": "d046eb36-f5f6-486c-a704-cd0af39f73ed",
   "metadata": {},
   "outputs": [],
   "source": [
    "##056"
   ]
  },
  {
   "cell_type": "code",
   "execution_count": 21,
   "id": "cf5f6ef8-9d5a-4c2f-ac06-f9ab9d86da07",
   "metadata": {},
   "outputs": [
    {
     "name": "stdout",
     "output_type": "stream",
     "text": [
      "['C', 'C++', 'JAVA', 'Python', 'Go', 'C#']\n"
     ]
    }
   ],
   "source": [
    "lang1 = [\"C\", \"C++\", \"JAVA\"]\n",
    "lang2 = [\"Python\", \"Go\", \"C#\"]\n",
    "langs = lang1 + lang2\n",
    "print(langs)"
   ]
  },
  {
   "cell_type": "code",
   "execution_count": 22,
   "id": "f7c6734b-430d-45ef-8d57-23f00a91c618",
   "metadata": {},
   "outputs": [],
   "source": [
    "##057"
   ]
  },
  {
   "cell_type": "code",
   "execution_count": 23,
   "id": "263466a9-fdb0-43e8-a961-72ceb7f1bd1c",
   "metadata": {},
   "outputs": [
    {
     "name": "stdout",
     "output_type": "stream",
     "text": [
      "max:  7\n",
      "min:  1\n"
     ]
    }
   ],
   "source": [
    "nums = [1, 2, 3, 4, 5, 6, 7]\n",
    "print(\"max: \", max(nums))\n",
    "print(\"min: \", min(nums))"
   ]
  },
  {
   "cell_type": "code",
   "execution_count": 26,
   "id": "fc5bcbb3-0795-407a-9a23-f78788698cf9",
   "metadata": {},
   "outputs": [],
   "source": [
    "##058"
   ]
  },
  {
   "cell_type": "code",
   "execution_count": 27,
   "id": "bc71010e-900e-40fb-8bbc-e302bef60111",
   "metadata": {},
   "outputs": [
    {
     "name": "stdout",
     "output_type": "stream",
     "text": [
      "15\n"
     ]
    }
   ],
   "source": [
    "nums = [1, 2, 3, 4, 5]\n",
    "print(sum(nums))"
   ]
  },
  {
   "cell_type": "code",
   "execution_count": 31,
   "id": "2d78f5e3-5309-4c5d-b10d-a747d2c485d3",
   "metadata": {},
   "outputs": [],
   "source": [
    "##059"
   ]
  },
  {
   "cell_type": "code",
   "execution_count": 32,
   "id": "39e4164e-2293-4e1a-82b1-1d932bb0d2fa",
   "metadata": {},
   "outputs": [
    {
     "name": "stdout",
     "output_type": "stream",
     "text": [
      "12\n"
     ]
    }
   ],
   "source": [
    "cook = [\"피자\", \"김밥\", \"만두\", \"양념치킨\", \"족발\", \"피자\", \"김치만두\", \"쫄면\", \"소시지\", \"라면\", \"팥빙수\", \"김치전\"]\n",
    "print(len(cook))"
   ]
  },
  {
   "cell_type": "markdown",
   "id": "6eb169d3-db14-4ed7-a00c-e26b5740334c",
   "metadata": {},
   "source": [
    "## 60"
   ]
  },
  {
   "cell_type": "code",
   "execution_count": 34,
   "id": "dd53898a-3ab2-4d5e-af32-589efc5be297",
   "metadata": {},
   "outputs": [
    {
     "name": "stdout",
     "output_type": "stream",
     "text": [
      "3.0\n"
     ]
    }
   ],
   "source": [
    "nums = [1, 2, 3, 4, 5]\n",
    "average = sum(nums) / len(nums)\n",
    "print(average)"
   ]
  },
  {
   "cell_type": "markdown",
   "id": "562c10d4-9e65-43a3-9f1f-3a9485c8f8ef",
   "metadata": {},
   "source": [
    "## 61"
   ]
  },
  {
   "cell_type": "code",
   "execution_count": null,
   "id": "d985b2fd-4495-42a2-adbd-de20ac9864ac",
   "metadata": {},
   "outputs": [],
   "source": []
  },
  {
   "cell_type": "code",
   "execution_count": null,
   "id": "7bc16cfb-82c4-40d2-973f-c972703f22fa",
   "metadata": {},
   "outputs": [],
   "source": []
  },
  {
   "cell_type": "code",
   "execution_count": null,
   "id": "fa8eaab4-d826-4220-900a-34fb584b724c",
   "metadata": {},
   "outputs": [],
   "source": []
  },
  {
   "cell_type": "code",
   "execution_count": null,
   "id": "a1a8836c-7efc-4562-ac92-c917019753b8",
   "metadata": {},
   "outputs": [],
   "source": []
  },
  {
   "cell_type": "code",
   "execution_count": null,
   "id": "3b03a983-5a8a-489a-bc45-7cbb165065aa",
   "metadata": {},
   "outputs": [],
   "source": []
  }
 ],
 "metadata": {
  "kernelspec": {
   "display_name": "Python 3 (ipykernel)",
   "language": "python",
   "name": "python3"
  },
  "language_info": {
   "codemirror_mode": {
    "name": "ipython",
    "version": 3
   },
   "file_extension": ".py",
   "mimetype": "text/x-python",
   "name": "python",
   "nbconvert_exporter": "python",
   "pygments_lexer": "ipython3",
   "version": "3.12.4"
  }
 },
 "nbformat": 4,
 "nbformat_minor": 5
}
